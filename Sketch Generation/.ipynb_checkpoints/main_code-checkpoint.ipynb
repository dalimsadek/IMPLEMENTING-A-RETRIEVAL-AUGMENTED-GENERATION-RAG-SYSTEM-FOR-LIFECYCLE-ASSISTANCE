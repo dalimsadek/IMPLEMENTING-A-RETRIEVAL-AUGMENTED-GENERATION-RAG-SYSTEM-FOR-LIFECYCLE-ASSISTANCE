{
 "cells": [
  {
   "cell_type": "code",
   "execution_count": 1,
   "id": "957e575b-1b8d-49f7-8e4a-3f787684bb48",
   "metadata": {},
   "outputs": [
    {
     "name": "stderr",
     "output_type": "stream",
     "text": [
      "C:\\Users\\medaminekh\\anaconda3\\envs\\sem_proj\\lib\\site-packages\\tqdm\\auto.py:21: TqdmWarning: IProgress not found. Please update jupyter and ipywidgets. See https://ipywidgets.readthedocs.io/en/stable/user_install.html\n",
      "  from .autonotebook import tqdm as notebook_tqdm\n"
     ]
    }
   ],
   "source": [
    "import os\n",
    "import subprocess\n",
    "from transformers import AutoTokenizer, AutoModelForCausalLM, pipeline\n",
    "from sentence_transformers import SentenceTransformer\n",
    "import faiss\n",
    "import numpy as np\n",
    "import sys\n"
   ]
  },
  {
   "cell_type": "code",
   "execution_count": 2,
   "id": "a4434e86-ca80-407c-9272-e28b5807237f",
   "metadata": {},
   "outputs": [],
   "source": [
    "def compile_arduino_code(code: str, sketch_name=\"MySketch\"):\n",
    "    folder = sketch_name\n",
    "    filename = f\"{sketch_name}.ino\"\n",
    "    os.makedirs(folder, exist_ok=True)\n",
    "    file_path = os.path.join(folder, filename)\n",
    "\n",
    "    with open(file_path, \"w\") as f:\n",
    "        f.write(code)\n",
    "\n",
    "    try:\n",
    "        result = subprocess.run(\n",
    "            [\"arduino-cli\", \"compile\", \"--fqbn\", \"arduino:avr:uno\", folder],\n",
    "            capture_output=True,\n",
    "            text=True\n",
    "        )\n",
    "    except FileNotFoundError:\n",
    "        return False, \"arduino-cli not found or not in PATH\"\n",
    "\n",
    "    log = \"\\n\".join(result.stderr.splitlines()[:20]).strip() \n",
    "    return result.returncode == 0, log"
   ]
  },
  {
   "cell_type": "code",
   "execution_count": 3,
   "id": "424a95e8-2780-4b40-892b-9551b91d67f1",
   "metadata": {},
   "outputs": [
    {
     "name": "stderr",
     "output_type": "stream",
     "text": [
      "Device set to use cpu\n"
     ]
    }
   ],
   "source": [
    "# --- Load model ---\n",
    "from transformers import TextGenerationPipeline\n",
    "\n",
    "model_id = \"deepseek-ai/deepseek-coder-1.3b-instruct\"\n",
    "tokenizer = AutoTokenizer.from_pretrained(model_id)\n",
    "if tokenizer.pad_token is None:\n",
    "    tokenizer.pad_token = tokenizer.eos_token\n",
    "model = AutoModelForCausalLM.from_pretrained(\n",
    "    model_id,\n",
    "    device_map=\"auto\",\n",
    "    trust_remote_code=True\n",
    ")\n",
    "\n",
    "\n",
    "\n",
    "code_fixer = TextGenerationPipeline(\n",
    "    model=model,\n",
    "    tokenizer=tokenizer,\n",
    "    return_full_text=False,\n",
    "    pad_token_id=tokenizer.pad_token_id\n",
    ")"
   ]
  },
  {
   "cell_type": "code",
   "execution_count": 4,
   "id": "35e9616c-a793-4d5b-9e9c-d3f4774efbba",
   "metadata": {},
   "outputs": [],
   "source": [
    "def trim_context_snippets(snippets, tokenizer, max_context_tokens):\n",
    "    combined = \"\"\n",
    "    for snippet in snippets:\n",
    "        temp = combined + \"\\n\\n\" + snippet\n",
    "        tokens = tokenizer(temp, return_tensors=\"pt\", truncation=False).input_ids\n",
    "        if tokens.shape[1] > max_context_tokens:\n",
    "            break\n",
    "        combined = temp\n",
    "    return combined"
   ]
  },
  {
   "cell_type": "code",
   "execution_count": 15,
   "id": "91fab392-d62b-4604-9a42-0c97f1d38fc5",
   "metadata": {},
   "outputs": [],
   "source": [
    "from prompt_template import correct_code\n",
    "import re\n",
    "\n",
    "def extract_code_block(text):\n",
    "    match = re.search(r\"```(?:arduino)?\\s*(.*?)```\", text, re.DOTALL)\n",
    "    if match:\n",
    "        return match.group(1).strip()\n",
    "    return text.strip()  # fallback\n",
    "\n",
    "def fix_code(code, error, context_snippets, model, tokenizer, max_total_tokens=2048, max_new_tokens=256):\n",
    "    max_context_tokens = int(max_total_tokens * 0.75)\n",
    "    context = trim_context_snippets(context_snippets, tokenizer, max_context_tokens)\n",
    "\n",
    "    base_prompt = correct_code(context, code, error)  \n",
    "\n",
    "    input_ids = tokenizer(base_prompt, return_tensors=\"pt\", padding=True, truncation=True)\n",
    "    if input_ids[\"input_ids\"].shape[1] + max_new_tokens > max_total_tokens:\n",
    "        allowed = max_total_tokens - max_new_tokens\n",
    "        input_ids[\"input_ids\"] = input_ids[\"input_ids\"][:, -allowed:]\n",
    "        input_ids[\"attention_mask\"] = input_ids[\"attention_mask\"][:, -allowed:]\n",
    "\n",
    "    output_ids = model.generate(\n",
    "        input_ids=input_ids[\"input_ids\"],\n",
    "        attention_mask=input_ids[\"attention_mask\"],\n",
    "        max_new_tokens=max_new_tokens,\n",
    "        pad_token_id=tokenizer.pad_token_id\n",
    "    )\n",
    "    decoded = tokenizer.decode(output_ids[0], skip_special_tokens=True)\n",
    "    return extract_code_block(decoded)\n",
    "\n"
   ]
  },
  {
   "cell_type": "code",
   "execution_count": 6,
   "id": "8b2e7fa9-2317-471a-ba5d-7a31a7307668",
   "metadata": {},
   "outputs": [],
   "source": [
    "def load_arduino_examples_from_repo(root_dir=\"arduino-examples/examples\"):\n",
    "    ino_files = []\n",
    "    for subdir, _, files in os.walk(root_dir):\n",
    "        for file in files:\n",
    "            if file.endswith(\".ino\"):\n",
    "                path = os.path.join(subdir, file)\n",
    "                try:\n",
    "                    with open(path, \"r\", encoding=\"utf-8\", errors=\"ignore\") as f:\n",
    "                        ino_files.append(f.read()[:5000])\n",
    "                except:\n",
    "                    pass\n",
    "    return ino_files\n"
   ]
  },
  {
   "cell_type": "code",
   "execution_count": 14,
   "id": "515c44ee-c151-4027-b0f5-ac65ffd561c7",
   "metadata": {},
   "outputs": [],
   "source": [
    "import re\n",
    "\n",
    "def extract_clean_code(output: str, fallback: str) -> str:\n",
    "    # Find the first ```arduino or ``` block\n",
    "    \n",
    "    match = re.search(r\"```(?:arduino)?\\s*(.*?)```\", output, re.DOTALL)\n",
    "    if match:\n",
    "        return match.group(1).strip()\n",
    "    \n",
    "    # Otherwise, try to grab from last 'Corrected Code:' onward\n",
    "    if \"Corrected Code:\" in output:\n",
    "        return output.split(\"Corrected Code:\")[-1].strip()\n",
    "\n",
    "    # Fallback if all else fails\n",
    "    return fallback\n"
   ]
  },
  {
   "cell_type": "code",
   "execution_count": 8,
   "id": "e299fcb4-be9e-4104-be1d-bb3e978363d1",
   "metadata": {},
   "outputs": [],
   "source": [
    "#def iterative_fix(original_code: str) -> str | None:\n",
    "    #code = original_code\n",
    "    #MAX_ATTEMPTS = 3\n",
    "    #docs, embedder, index = build_faiss_index_from_arduino_examples(\"arduino-examples/examples\")\n",
    "    #for attempt in range(1, MAX_ATTEMPTS + 1):\n",
    "    #ok, log = compile_arduino_code(code)\n",
    "    #if ok:\n",
    "        #print(f\"✅ Compiled on attempt {attempt}\")\n",
    "     #   return code\n",
    "\n",
    "    #print(f\"❌ Attempt {attempt} failed, retrying…\\n{log}\", file=sys.stderr)\n",
    "    #ctx = retrieve_context(log, embedder, index, docs)\n",
    "    #raw = fix_code(code, log, ctx, model, tokenizer)\n",
    "    #code = extract_clean_code(raw, code)\n",
    "    #print(\"❌ Exhausted retries — no working sketch.\")\n",
    "    #return raw\n"
   ]
  },
  {
   "cell_type": "code",
   "execution_count": 9,
   "id": "8fa4ade2-816f-4651-8be0-376935f9244c",
   "metadata": {},
   "outputs": [],
   "source": [
    "def iterative_fix(original_code: str) -> str:\n",
    "    code = original_code\n",
    "\n",
    "    # Try compiling\n",
    "    ok, log = compile_arduino_code(code)\n",
    "    if ok:\n",
    "        print(\"✅ Compilation succeeded — no correction needed.\")\n",
    "        return code\n",
    "\n",
    "    print(\"❌ Compilation failed. Attempting to fix…\\n\", log)\n",
    "\n",
    "    # Retrieve related Arduino examples\n",
    "    docs, embedder, index = build_faiss_index_from_arduino_examples(\"arduino-examples/examples\")\n",
    "    ctx = retrieve_context(log, embedder, index, docs)\n",
    "\n",
    "    # Generate a corrected version\n",
    "    raw = fix_code(code, log, ctx, model, tokenizer)\n",
    "\n",
    "    # Optional: clean the result to remove explanations or markdown\n",
    "    fixed_code = extract_clean_code(raw, fallback=code)\n",
    "\n",
    "    return fixed_code\n"
   ]
  },
  {
   "cell_type": "code",
   "execution_count": 10,
   "id": "7932a94b-fdcb-4398-adbf-0eb6d8c81774",
   "metadata": {},
   "outputs": [],
   "source": [
    "def build_faiss_index_from_arduino_examples(local_path=\"arduino-examples/examples\"):\n",
    "    docs = load_arduino_examples_from_repo(local_path)\n",
    "    embedder = SentenceTransformer(\"all-MiniLM-L6-v2\")\n",
    "    embeddings = embedder.encode(docs).astype(\"float32\") \n",
    "    dim = embeddings.shape[1]\n",
    "    index = faiss.IndexFlatL2(dim)\n",
    "    index.add(np.array(embeddings))\n",
    "    return docs, embedder, index\n",
    "\n",
    "def retrieve_context(query, embedder, index, docs, top_k=2):\n",
    "    q_vec = np.array(embedder.encode([query]))\n",
    "    D, I = index.search(q_vec, top_k)\n",
    "    return [docs[i] for i in I[0]]"
   ]
  },
  {
   "cell_type": "code",
   "execution_count": 18,
   "id": "f80edc3c-24d3-4c3e-b7f7-0fb7c30a3459",
   "metadata": {},
   "outputs": [
    {
     "name": "stdout",
     "output_type": "stream",
     "text": [
      "❌ Compilation failed. Attempting to fix…\n",
      " C:\\Users\\medaminekh\\semester_project\\MySketch\\MySketch.ino: In function 'void setup()':\n",
      "C:\\Users\\medaminekh\\semester_project\\MySketch\\MySketch.ino:3:3: error: expected ';' before 'pinMode'\n",
      "   pinMode(13, OUTPUT);  // missing comma between arguments\n",
      "   ^~~~~~~\n",
      "Error during build: exit status 1\n",
      "\n",
      "—— Final working sketch ——\n",
      "\n",
      "void setup() {\n",
      "  Serial.begin(9600);\n",
      "  pinMode(13, OUTPUT);  // added comma between arguments\n",
      "}\n",
      "\n",
      "void loop() {\n",
      "  digitalWrite(13, HIGH);\n",
      "  delay(1000);\n",
      "}\n",
      "\n",
      "\n",
      "### Explanation:\n",
      "The error message indicates that the compiler is expecting a ';' after 'pinMode' but it's not. The missing comma after '13' in 'pinMode(13, OUTPUT);' is causing the error.\n",
      "\n",
      "The corrected code adds a comma after '13' in 'pinMode(13, OUTPUT);' to fix the error. The 'HIGH' value is also added after 'digitalWrite(13, \"HIGH\");' to fix the error.\n"
     ]
    }
   ],
   "source": [
    "from pathlib import Path\n",
    "\n",
    "buggy_code_path = Path(\"buggy_code.ino\")\n",
    "buggy_code = buggy_code_path.read_text(encoding=\"utf-8\")\n",
    "\n",
    "fixed = iterative_fix(buggy_code)\n",
    "if fixed:\n",
    "    print(\"\\n—— Final working sketch ——\\n\")\n",
    "    print(fixed)\n",
    "else:\n",
    "    print(\"No valid fix found after retries.\")\n"
   ]
  },
  {
   "cell_type": "code",
   "execution_count": null,
   "id": "4748b1d4-1a34-4902-8bde-71465ae36658",
   "metadata": {},
   "outputs": [],
   "source": []
  }
 ],
 "metadata": {
  "kernelspec": {
   "display_name": "Python 3 (ipykernel)",
   "language": "python",
   "name": "python3"
  },
  "language_info": {
   "codemirror_mode": {
    "name": "ipython",
    "version": 3
   },
   "file_extension": ".py",
   "mimetype": "text/x-python",
   "name": "python",
   "nbconvert_exporter": "python",
   "pygments_lexer": "ipython3",
   "version": "3.10.16"
  }
 },
 "nbformat": 4,
 "nbformat_minor": 5
}
